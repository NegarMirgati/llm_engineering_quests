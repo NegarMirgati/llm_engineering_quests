{
 "cells": [
  {
   "cell_type": "markdown",
   "id": "fe12c203-e6a6-452c-a655-afb8a03a4ff5",
   "metadata": {},
   "source": [
    "# End of week 1 exercise\n",
    "\n",
    "To demonstrate your familiarity with OpenAI API, and also Ollama, build a tool that takes a technical question,  \n",
    "and responds with an explanation. This is a tool that you will be able to use yourself during the course!"
   ]
  },
  {
   "cell_type": "code",
   "execution_count": 1,
   "id": "c1070317-3ed9-4659-abe3-828943230e03",
   "metadata": {},
   "outputs": [],
   "source": [
    "# imports\n",
    "import ollama\n",
    "from openai import OpenAI\n",
    "from IPython.display import Markdown, display, update_display\n",
    "from dotenv import load_dotenv\n",
    "import os"
   ]
  },
  {
   "cell_type": "code",
   "execution_count": 2,
   "id": "4a456906-915a-4bfd-bb9d-57e505c5093f",
   "metadata": {},
   "outputs": [],
   "source": [
    "# constants\n",
    "\n",
    "MODEL_GPT = 'gpt-4o-mini'\n",
    "MODEL_LLAMA = 'llama3.2'\n",
    "OLLAMA_API = \"http://localhost:11434/api/chat\"\n",
    "HEADERS = {\"Content-Type\": \"application/json\"}"
   ]
  },
  {
   "cell_type": "code",
   "execution_count": 3,
   "id": "a8d7923c-5f28-4c30-8556-342d7c8497c1",
   "metadata": {},
   "outputs": [],
   "source": [
    "# set up environment"
   ]
  },
  {
   "cell_type": "code",
   "execution_count": 4,
   "id": "3f0d0137-52b0-47a8-81a8-11a90a010798",
   "metadata": {},
   "outputs": [],
   "source": [
    "# here is the question; type over this to ask something new\n",
    "\n",
    "question = \"\"\"\n",
    "Please explain what this code does and why:\n",
    "yield from {book.get(\"author\") for book in books if book.get(\"author\")}\n",
    "\"\"\""
   ]
  },
  {
   "cell_type": "code",
   "execution_count": 5,
   "id": "8f7c8ea8-4082-4ad0-8751-3301adcf6538",
   "metadata": {},
   "outputs": [
    {
     "name": "stdout",
     "output_type": "stream",
     "text": [
      "\u001b[?25lpulling manifest ⠋ \u001b[?25h\u001b[?25l\u001b[2K\u001b[1Gpulling manifest ⠙ \u001b[?25h\u001b[?25l\u001b[2K\u001b[1Gpulling manifest ⠹ \u001b[?25h\u001b[?25l\u001b[2K\u001b[1Gpulling manifest ⠸ \u001b[?25h\u001b[?25l\u001b[2K\u001b[1Gpulling manifest ⠼ \u001b[?25h\u001b[?25l\u001b[2K\u001b[1Gpulling manifest \n",
      "pulling dde5aa3fc5ff... 100% ▕████████████████▏ 2.0 GB                         \n",
      "pulling 966de95ca8a6... 100% ▕████████████████▏ 1.4 KB                         \n",
      "pulling fcc5a6bec9da... 100% ▕████████████████▏ 7.7 KB                         \n",
      "pulling a70ff7e570d9... 100% ▕████████████████▏ 6.0 KB                         \n",
      "pulling 56bb8bd477a5... 100% ▕████████████████▏   96 B                         \n",
      "pulling 34bb5ab01051... 100% ▕████████████████▏  561 B                         \n",
      "verifying sha256 digest \n",
      "writing manifest \n",
      "success \u001b[?25h\n"
     ]
    }
   ],
   "source": [
    "# Get Llama 3.2 to answer\n",
    "!ollama pull llama3.2"
   ]
  },
  {
   "cell_type": "code",
   "execution_count": 6,
   "id": "723db644-eece-4e04-a46f-d23770eec00d",
   "metadata": {},
   "outputs": [],
   "source": [
    "system_prompt = \"\"\"You are a knowledgeable assistant that can receive various technical questions, \\\n",
    "                 and respond to those questions in a straightforward yet meticulous manner. \\ \n",
    "                 Provide a reasonable explanation for why you think the answer is what you are providing.\\ \n",
    "                 Try to be thorough in your answers, and avoid hallucinating. Provide your answer in Markdown.\n",
    "                \"\"\"\n",
    "\n",
    "user_prompt = f\"\"\"Here is a technical question {question} \\\n",
    "                  Can you answer it and provide an explanation as well?\n",
    "                \"\"\""
   ]
  },
  {
   "cell_type": "code",
   "execution_count": 7,
   "id": "0aaa3da2-b51b-41dc-a8ef-e54abb25033b",
   "metadata": {},
   "outputs": [],
   "source": [
    "# Create a messages list using the same format that we used for OpenAI\n",
    "\n",
    "messages = [\n",
    "    {\"role\": \"system\", \"content\": system_prompt},\n",
    "    {\"role\": \"user\", \"content\": user_prompt}\n",
    "]"
   ]
  },
  {
   "cell_type": "code",
   "execution_count": 8,
   "id": "20cb4334-1371-48d1-aa2f-beb32bda8c1e",
   "metadata": {},
   "outputs": [],
   "source": [
    "def stream_markdown(stream):\n",
    "    response = \"\"\n",
    "    display_handle = display(Markdown(\"\"), display_id=True)\n",
    "    for chunk in stream:\n",
    "        response += chunk.choices[0].delta.content or ''\n",
    "        response = response.replace(\"```\",\"\").replace(\"markdown\", \"\")\n",
    "        update_display(Markdown(response), display_id=display_handle.display_id)"
   ]
  },
  {
   "cell_type": "code",
   "execution_count": 9,
   "id": "983d7a32-8377-492a-b736-30b0f432203a",
   "metadata": {},
   "outputs": [
    {
     "data": {
      "text/markdown": [
       "**Code Explanation**\n",
       "---------------\n",
       "\n",
       "python\n",
       "yield from {\n",
       "    \"author\": book.get(\"author\")\n",
       "    for book in books\n",
       "    if book.get(\"author\")\n",
       "}\n",
       "\n",
       "This code is using a combination of Python features to generate and yield values.\n",
       "\n",
       "### Key Components:\n",
       "\n",
       "1. **Generator Expression:** The code uses a generator expression, which is similar to an ordinary list comprehension but with the `yield` keyword instead of `return`. This allows it to produce a sequence of results that can be used in a loop without having to materialize all the values at once.\n",
       "2. **Dictionary Comprehension:** Inside the generator expression, there's another dictionary comprehension, which is creating a new dictionary for each iteration of the outer loop (`for book in books`).\n",
       "3. **`yield from` Statement:** The `yield from` statement is used to yield values from other iterators (in this case, dictionaries). It's similar to `yield`, but it delegates the iteration back to that other iterator.\n",
       "\n",
       "**What Does it Do?**\n",
       "-------------------\n",
       "\n",
       "This code iterates over a list of books (`books`) and for each book, it checks if the book has an \"author\" key. If the book does have an author, its value is used as the content for this dictionary.\n",
       "\n",
       "Ultimately, `yield from` then yields each of these dictionaries to an external function or loop, one by one. Each of these dictionaries will contain a single key-value pair: \"author\": author_name.\n",
       "\n",
       "If the code were executed in isolation (not being called directly), it would print out the following:\n",
       "\n",
       "json\n",
       "{'author': 'author_0'},\n",
       "{'author': 'author_1'},\n",
       "{'author': 'author_2'}\n",
       "\n",
       "Since this is an extension that's typically used with external functions or a main loop, its output depends on the function it is being called from.\n",
       "\n",
       "Here is some example code to show these dictionary outputs\n",
       "\n",
       "python\n",
       "# Assume this is your data:\n",
       "books = [\n",
       "    {\"title\": \"Book 1\", \"author\": \"Author A\"},\n",
       "    {\"title\": \"Book 2\", \"author\": None},\n",
       "    {\"title\": \"Book 3\", \"author\": \"Author C\"}\n",
       "]\n",
       "\n",
       "for author in yield from {book.get(\"author\") for book in books if book.get(\"author\")}:\n",
       "    print(author)\n",
       "\n",
       "**Answer Explanation**\n",
       "-------------------\n",
       "\n",
       "The `yield from` statement is an extension introduced in Python 3.3. It's used to simplify code that would require a normal loop and multiple separate function calls.\n",
       "\n",
       "In this specific example, using `yield from` avoids creating a temporary list or other intermediate data structure, allowing the code to produce results more efficiently if working with large datasets.\n",
       "\n",
       "Without this feature, you might write something like this:\n",
       "\n",
       "python\n",
       "def get_book_authors(books):\n",
       "    for book in books:\n",
       "        author = book.get(\"author\")\n",
       "        if author is not None:\n",
       "            # yield is used here instead of return\n",
       "            yield author\n",
       "\n",
       "# Call this function and loop over its results.\n",
       "# We have more flexibility on how we're passing the data to our function.\n",
       "\n",
       "for author in get_book_authors(books):\n",
       "    print(author)\n",
       "\n",
       "\n",
       "The `yield from` version does exactly the same, but is usually simpler and less error-prone, especially when combined with dictionary comprehensions or other constructs."
      ],
      "text/plain": [
       "<IPython.core.display.Markdown object>"
      ]
     },
     "metadata": {},
     "output_type": "display_data"
    }
   ],
   "source": [
    "ollama_via_openai = OpenAI(base_url='http://localhost:11434/v1', api_key='ollama')\n",
    "response = ollama_via_openai.chat.completions.create(\n",
    "    model=MODEL_LLAMA,\n",
    "    messages=messages, \n",
    "    stream=True\n",
    ")\n",
    "\n",
    "stream_markdown(response)"
   ]
  },
  {
   "cell_type": "code",
   "execution_count": 10,
   "id": "60ce7000-a4a5-4cce-a261-e75ef45063b4",
   "metadata": {},
   "outputs": [
    {
     "name": "stdout",
     "output_type": "stream",
     "text": [
      "API key found and looks good so far!\n"
     ]
    }
   ],
   "source": [
    "# Get gpt-4o-mini to answer, with streaming\n",
    "\n",
    "## Load environment variables in a file called .env\n",
    "\n",
    "load_dotenv(override=True)\n",
    "api_key = os.getenv('OPENAI_API_KEY')\n",
    "\n",
    "# Check the key\n",
    "\n",
    "if not api_key:\n",
    "    print(\"No API key was found - please head over to the troubleshooting notebook in this folder to identify & fix!\")\n",
    "elif not api_key.startswith(\"sk-proj-\"):\n",
    "    print(\"An API key was found, but it doesn't start sk-proj-; please check you're using the right key - see troubleshooting notebook\")\n",
    "elif api_key.strip() != api_key:\n",
    "    print(\"An API key was found, but it looks like it might have space or tab characters at the start or end - please remove them - see troubleshooting notebook\")\n",
    "else:\n",
    "    print(\"API key found and looks good so far!\")"
   ]
  },
  {
   "cell_type": "code",
   "execution_count": 11,
   "id": "8de5c74d-8881-4aa7-91e7-f9cf9f527d30",
   "metadata": {},
   "outputs": [],
   "source": [
    "openai = OpenAI()\n",
    "\n",
    "# If this doesn't work, try Kernel menu >> Restart Kernel and Clear Outputs Of All Cells, then run the cells from the top of this notebook down.\n",
    "# If it STILL doesn't work (horrors!) then please see the Troubleshooting notebook in this folder for full instructions"
   ]
  },
  {
   "cell_type": "code",
   "execution_count": 12,
   "id": "7d326aab-aa9c-4088-8b40-29b0de366947",
   "metadata": {},
   "outputs": [
    {
     "data": {
      "text/markdown": [
       "Certainly! Let's break down the code you provided:\n",
       "\n",
       "python\n",
       "yield from {book.get(\"author\") for book in books if book.get(\"author\")}\n",
       "\n",
       "\n",
       "### Explanation\n",
       "\n",
       "1. **Set Comprehension**:\n",
       "   - The code includes a **set comprehension** `{book.get(\"author\") for book in books if book.get(\"author\")}`. This means that it will create a set of authors from a collection called `books`. \n",
       "   - Each `book` is expected to be a dictionary-like object (e.g., a dictionary) that contains an `\"author\"` key.\n",
       "\n",
       "2. **Iteration through `books`**:\n",
       "   - The expression iterates over an iterable called `books`. This is typically a list or another collection of book objects, each of which is structured as a dictionary.\n",
       "\n",
       "3. **Condition**:\n",
       "   - The `if book.get(\"author\")` part filters the collection. It checks if there's an `\"author\"` key in each `book` dictionary and whether its value is truthy (not `None`, `False`, or an empty string). If an author exists, it is included in the set.\n",
       "\n",
       "4. **Getting Unique Authors**:\n",
       "   - By using a set (`{...}`), this code collects unique authors. If multiple books have the same author, that author will only appear once in the resulting set, automatically filtering duplicates.\n",
       "\n",
       "5. **Yielding**:\n",
       "   - The `yield from` expression is a way to yield each item from an iterable. In this case, each unique author from the set comprehension will be yielded one at a time.\n",
       "   - This construct is typically used within a generator function to yield values without needing to loop explicitly over the iterable.\n",
       "\n",
       "### Final Result\n",
       "\n",
       "Putting it all together, the provided code does the following:\n",
       "- It collects all unique authors from the list of books where the `\"author\"` key is present and has a truthy value.\n",
       "- Then, it yields those authors one by one.\n",
       "\n",
       "### Example\n",
       "\n",
       "Given the following list of books:\n",
       "\n",
       "python\n",
       "books = [\n",
       "    {\"title\": \"Book One\", \"author\": \"Author A\"},\n",
       "    {\"title\": \"Book Two\", \"author\": \"Author B\"},\n",
       "    {\"title\": \"Book Three\", \"author\": \"Author A\"},\n",
       "    {\"title\": \"Book Four\", \"author\": None},\n",
       "    {\"title\": \"Book Five\"}\n",
       "]\n",
       "\n",
       "\n",
       "The expression would yield:\n",
       "\n",
       "\"Author A\"\n",
       "\"Author B\"\n",
       "\n",
       "\n",
       "`\"Author A\"` appears only once in the output, despite having two entries in the `books` list.\n",
       "\n",
       "### Summary\n",
       "The line of code efficiently collects and yields unique author names from a list of books, while ignoring entries without an author or where the author is `None` or an empty string. This is useful in contexts where you want to process or display a list of authors without redundancy."
      ],
      "text/plain": [
       "<IPython.core.display.Markdown object>"
      ]
     },
     "metadata": {},
     "output_type": "display_data"
    }
   ],
   "source": [
    "# To give you a preview -- calling OpenAI with these messages is this easy. Any problems, head over to the Troubleshooting notebook.\n",
    "response = openai.chat.completions.create(\n",
    "        model = MODEL_GPT,\n",
    "        messages = messages,\n",
    "        stream=True\n",
    "    )\n",
    "\n",
    "# Step 4: print the result\n",
    "stream_markdown(response)"
   ]
  }
 ],
 "metadata": {
  "kernelspec": {
   "display_name": "Python 3 (ipykernel)",
   "language": "python",
   "name": "python3"
  },
  "language_info": {
   "codemirror_mode": {
    "name": "ipython",
    "version": 3
   },
   "file_extension": ".py",
   "mimetype": "text/x-python",
   "name": "python",
   "nbconvert_exporter": "python",
   "pygments_lexer": "ipython3",
   "version": "3.11.11"
  }
 },
 "nbformat": 4,
 "nbformat_minor": 5
}
