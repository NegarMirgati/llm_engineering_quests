{
 "cells": [
  {
   "cell_type": "markdown",
   "id": "d15d8294-3328-4e07-ad16-8a03e9bbfdb9",
   "metadata": {},
   "source": [
    "# Welcome to your first assignment!\n",
    "\n",
    "Instructions are below. Please give this a try, and look in the solutions folder if you get stuck (or feel free to ask me!)"
   ]
  },
  {
   "cell_type": "markdown",
   "id": "ada885d9-4d42-4d9b-97f0-74fbbbfe93a9",
   "metadata": {},
   "source": [
    "<table style=\"margin: 0; text-align: left;\">\n",
    "    <tr>\n",
    "        <td style=\"width: 150px; height: 150px; vertical-align: middle;\">\n",
    "            <img src=\"../resources.jpg\" width=\"150\" height=\"150\" style=\"display: block;\" />\n",
    "        </td>\n",
    "        <td>\n",
    "            <h2 style=\"color:#f71;\">Just before we get to the assignment --</h2>\n",
    "            <span style=\"color:#f71;\">I thought I'd take a second to point you at this page of useful resources for the course. This includes links to all the slides.<br/>\n",
    "            <a href=\"https://edwarddonner.com/2024/11/13/llm-engineering-resources/\">https://edwarddonner.com/2024/11/13/llm-engineering-resources/</a><br/>\n",
    "            Please keep this bookmarked, and I'll continue to add more useful links there over time.\n",
    "            </span>\n",
    "        </td>\n",
    "    </tr>\n",
    "</table>"
   ]
  },
  {
   "cell_type": "markdown",
   "id": "6e9fa1fc-eac5-4d1d-9be4-541b3f2b3458",
   "metadata": {},
   "source": [
    "# HOMEWORK EXERCISE ASSIGNMENT\n",
    "\n",
    "Upgrade the day 1 project to summarize a webpage to use an Open Source model running locally via Ollama rather than OpenAI\n",
    "\n",
    "You'll be able to use this technique for all subsequent projects if you'd prefer not to use paid APIs.\n",
    "\n",
    "**Benefits:**\n",
    "1. No API charges - open-source\n",
    "2. Data doesn't leave your box\n",
    "\n",
    "**Disadvantages:**\n",
    "1. Significantly less power than Frontier Model\n",
    "\n",
    "## Recap on installation of Ollama\n",
    "\n",
    "Simply visit [ollama.com](https://ollama.com) and install!\n",
    "\n",
    "Once complete, the ollama server should already be running locally.  \n",
    "If you visit:  \n",
    "[http://localhost:11434/](http://localhost:11434/)\n",
    "\n",
    "You should see the message `Ollama is running`.  \n",
    "\n",
    "If not, bring up a new Terminal (Mac) or Powershell (Windows) and enter `ollama serve`  \n",
    "And in another Terminal (Mac) or Powershell (Windows), enter `ollama pull llama3.2`  \n",
    "Then try [http://localhost:11434/](http://localhost:11434/) again.\n",
    "\n",
    "If Ollama is slow on your machine, try using `llama3.2:1b` as an alternative. Run `ollama pull llama3.2:1b` from a Terminal or Powershell, and change the code below from `MODEL = \"llama3.2\"` to `MODEL = \"llama3.2:1b\"`"
   ]
  },
  {
   "cell_type": "code",
   "execution_count": 1,
   "id": "4e2a9393-7767-488e-a8bf-27c12dca35bd",
   "metadata": {},
   "outputs": [],
   "source": [
    "# imports\n",
    "\n",
    "import requests\n",
    "from bs4 import BeautifulSoup\n",
    "from IPython.display import Markdown, display"
   ]
  },
  {
   "cell_type": "code",
   "execution_count": 2,
   "id": "29ddd15d-a3c5-4f4e-a678-873f56162724",
   "metadata": {},
   "outputs": [],
   "source": [
    "# Constants\n",
    "\n",
    "OLLAMA_API = \"http://localhost:11434/api/chat\"\n",
    "HEADERS = {\"Content-Type\": \"application/json\"}\n",
    "MODEL = \"llama3.2\""
   ]
  },
  {
   "cell_type": "code",
   "execution_count": 3,
   "id": "dac0a679-599c-441f-9bf2-ddc73d35b940",
   "metadata": {},
   "outputs": [],
   "source": [
    "# Create a messages list using the same format that we used for OpenAI\n",
    "\n",
    "messages = [\n",
    "    {\"role\": \"user\", \"content\": \"Describe some of the business applications of Generative AI\"}\n",
    "]"
   ]
  },
  {
   "cell_type": "code",
   "execution_count": 4,
   "id": "7bb9c624-14f0-4945-a719-8ddb64f66f47",
   "metadata": {},
   "outputs": [],
   "source": [
    "payload = {\n",
    "        \"model\": MODEL,\n",
    "        \"messages\": messages,\n",
    "        \"stream\": False\n",
    "    }"
   ]
  },
  {
   "cell_type": "code",
   "execution_count": 5,
   "id": "479ff514-e8bd-4985-a572-2ea28bb4fa40",
   "metadata": {},
   "outputs": [
    {
     "name": "stdout",
     "output_type": "stream",
     "text": [
      "\u001b[?25lpulling manifest ⠋ \u001b[?25h\u001b[?25l\u001b[2K\u001b[1Gpulling manifest ⠙ \u001b[?25h\u001b[?25l\u001b[2K\u001b[1Gpulling manifest ⠹ \u001b[?25h\u001b[?25l\u001b[2K\u001b[1Gpulling manifest ⠸ \u001b[?25h\u001b[?25l\u001b[2K\u001b[1Gpulling manifest ⠼ \u001b[?25h\u001b[?25l\u001b[2K\u001b[1Gpulling manifest ⠴ \u001b[?25h\u001b[?25l\u001b[2K\u001b[1Gpulling manifest ⠦ \u001b[?25h\u001b[?25l\u001b[2K\u001b[1Gpulling manifest \n",
      "pulling dde5aa3fc5ff... 100% ▕████████████████▏ 2.0 GB                         \n",
      "pulling 966de95ca8a6... 100% ▕████████████████▏ 1.4 KB                         \n",
      "pulling fcc5a6bec9da... 100% ▕████████████████▏ 7.7 KB                         \n",
      "pulling a70ff7e570d9... 100% ▕████████████████▏ 6.0 KB                         \n",
      "pulling 56bb8bd477a5... 100% ▕████████████████▏   96 B                         \n",
      "pulling 34bb5ab01051... 100% ▕████████████████▏  561 B                         \n",
      "verifying sha256 digest \n",
      "writing manifest \n",
      "success \u001b[?25h\n"
     ]
    }
   ],
   "source": [
    "# Let's just make sure the model is loaded\n",
    "\n",
    "!ollama pull llama3.2"
   ]
  },
  {
   "cell_type": "code",
   "execution_count": 6,
   "id": "42b9f644-522d-4e05-a691-56e7658c0ea9",
   "metadata": {},
   "outputs": [
    {
     "name": "stdout",
     "output_type": "stream",
     "text": [
      "Generative AI (Artificial Intelligence) has numerous business applications across various industries. Here are some examples:\n",
      "\n",
      "1. **Content Generation**: Generative AI can be used to generate high-quality content such as blog posts, articles, social media posts, and product descriptions. This can help businesses save time and resources on content creation.\n",
      "2. **Product Design and Development**: Generative AI can assist in designing new products by generating 3D models, prototypes, and even entire product lines. This can reduce the time and cost associated with traditional design processes.\n",
      "3. **Image and Video Editing**: Generative AI can be used to edit images and videos, creating realistic effects such as removing objects, adding text, or even creating entirely new scenes.\n",
      "4. **Music Composition**: Generative AI can compose music in various styles, from classical to pop. This can help businesses create original music for their marketing campaigns or advertisements.\n",
      "5. **Chatbots and Virtual Assistants**: Generative AI can be used to power chatbots and virtual assistants, enabling them to understand and respond to user queries more effectively.\n",
      "6. **Marketing Automation**: Generative AI can be used to personalize marketing messages, creating tailored content for individual customers based on their behavior and preferences.\n",
      "7. **Sales Forecasting**: Generative AI can analyze historical data and make predictions about future sales performance, helping businesses optimize their inventory and pricing strategies.\n",
      "8. **Supply Chain Optimization**: Generative AI can analyze complex supply chain data to identify bottlenecks, predict demand, and optimize logistics.\n",
      "9. **Risk Analysis and Compliance**: Generative AI can analyze vast amounts of data to identify potential risks and compliance issues, enabling businesses to take proactive steps to mitigate them.\n",
      "10. **Data Visualization**: Generative AI can be used to create interactive and dynamic data visualizations, making it easier for businesses to communicate complex insights to stakeholders.\n",
      "\n",
      "Some specific business use cases include:\n",
      "\n",
      "* **Netflix's Content Recommendation System**: Uses generative AI to recommend content based on user behavior and preferences.\n",
      "* **Amazon's Product Recommendations**: Employs generative AI to suggest products to customers based on their browsing history and purchase behavior.\n",
      "* **Google's Image Search**: Utilizes generative AI to search for images that match a user's query, providing more accurate results.\n",
      "\n",
      "These are just a few examples of the many business applications of Generative AI. As the technology continues to evolve, we can expect to see even more innovative uses across various industries.\n"
     ]
    }
   ],
   "source": [
    "# If this doesn't work for any reason, try the 2 versions in the following cells\n",
    "# And double check the instructions in the 'Recap on installation of Ollama' at the top of this lab\n",
    "# And if none of that works - contact me!\n",
    "\n",
    "response = requests.post(OLLAMA_API, json=payload, headers=HEADERS)\n",
    "print(response.json()['message']['content'])"
   ]
  },
  {
   "cell_type": "markdown",
   "id": "6a021f13-d6a1-4b96-8e18-4eae49d876fe",
   "metadata": {},
   "source": [
    "# Introducing the ollama package\n",
    "\n",
    "And now we'll do the same thing, but using the elegant ollama python package instead of a direct HTTP call.\n",
    "\n",
    "Under the hood, it's making the same call as above to the ollama server running at localhost:11434"
   ]
  },
  {
   "cell_type": "code",
   "execution_count": 7,
   "id": "7745b9c4-57dc-4867-9180-61fa5db55eb8",
   "metadata": {},
   "outputs": [
    {
     "name": "stdout",
     "output_type": "stream",
     "text": [
      "Generative AI has numerous business applications across various industries. Here are some examples:\n",
      "\n",
      "1. **Content Generation**: Generative AI can be used to create high-quality, unique content such as articles, social media posts, product descriptions, and more. This can help reduce the workload of human writers and editors, while also improving content consistency and quality.\n",
      "2. **Personalized Product Recommendations**: Generative AI algorithms can analyze customer data and preferences to suggest personalized product recommendations, enhancing the shopping experience and increasing sales.\n",
      "3. **Image and Video Generation**: Generative AI can be used to create realistic images and videos that mimic real-world scenes, allowing businesses to generate high-quality visual content without requiring extensive resources or expertise.\n",
      "4. **Chatbots and Virtual Assistants**: Generative AI-powered chatbots can provide 24/7 customer support, answer frequently asked questions, and help with simple tasks, freeing up human agents to focus on more complex issues.\n",
      "5. **Marketing Automation**: Generative AI can be used to automate repetitive marketing tasks such as email campaigns, social media posts, and ad targeting, allowing businesses to personalize their messaging and improve campaign performance.\n",
      "6. **Predictive Analytics**: Generative AI algorithms can analyze large datasets to identify patterns and trends, enabling businesses to make data-driven decisions and predict future outcomes.\n",
      "7. **Speech-to-Text Transcription**: Generative AI-powered speech-to-text transcriptions can help businesses automate transcription tasks, reducing the time and effort required for manual transcription.\n",
      "8. **Automated Customer Service Routing**: Generative AI can analyze customer interactions and route them to the most suitable human agent or automated solution, improving response times and resolving issues more efficiently.\n",
      "9. **Product Design and Prototyping**: Generative AI can be used to generate 3D models and prototypes of new products, reducing the time and cost associated with traditional design processes.\n",
      "10. **Supply Chain Optimization**: Generative AI can analyze data from various sources to optimize supply chain operations, predict demand fluctuations, and identify areas for improvement.\n",
      "11. **Cybersecurity Threat Detection**: Generative AI-powered systems can detect and respond to cyber threats in real-time, reducing the risk of data breaches and improving overall security posture.\n",
      "12. **Language Translation**: Generative AI algorithms can translate languages in real-time, enabling businesses to communicate with customers and partners across language barriers.\n",
      "13. **Data Augmentation**: Generative AI can be used to augment existing datasets by generating new data points that improve model accuracy and performance.\n",
      "14. **Business Process Automation**: Generative AI can automate repetitive business processes such as order processing, invoicing, and account management.\n",
      "15. **Intelligent Research Assistance**: Generative AI-powered tools can help researchers identify relevant sources of information, summarize research papers, and generate hypotheses for further investigation.\n",
      "\n",
      "These are just a few examples of the many business applications of Generative AI. As the technology continues to evolve, we can expect to see even more innovative uses across various industries.\n"
     ]
    }
   ],
   "source": [
    "import ollama\n",
    "\n",
    "response = ollama.chat(model=MODEL, messages=messages)\n",
    "print(response['message']['content'])"
   ]
  },
  {
   "cell_type": "markdown",
   "id": "a4704e10-f5fb-4c15-a935-f046c06fb13d",
   "metadata": {},
   "source": [
    "## Alternative approach - using OpenAI python library to connect to Ollama"
   ]
  },
  {
   "cell_type": "code",
   "execution_count": 8,
   "id": "23057e00-b6fc-4678-93a9-6b31cb704bff",
   "metadata": {},
   "outputs": [
    {
     "name": "stdout",
     "output_type": "stream",
     "text": [
      "Generative AI has numerous business applications across various industries. Here are some examples:\n",
      "\n",
      "1. **Content Generation**: Generative AI can create high-quality, engaging content such as videos, images, and text, such as product descriptions, social media posts, and news articles. This saves time and money for businesses that need to produce a large amount of content.\n",
      "2. **Personalized Marketing**: Generative AI can analyze customer data and behavior to create personalized marketing messages, offers, and campaigns. For instance, an e-commerce company can use generative AI to generate product recommendations based on a customer's browsing history and purchase behavior.\n",
      "3. **Chatbots and Virtual Assistants**: Generative AI is used in chatbots and virtual assistants to improve their language understanding, tone, and response generation. This enables businesses to provide 24/7 customer support and improve customer experience.\n",
      "4. **Image and Video Editing**: Generative AI can generate realistic images, videos, and objects that are indistinguishable from those created by humans. This has applications in fields such as advertising, entertainment, and product design.\n",
      "5. **Predictive Maintenance**: Generative AI can analyze sensor data and produce predictions about equipment failure, enabling proactive maintenance and reducing downtime for businesses.\n",
      "6. **Speech Synthesis**: Generative AI can generate realistic speech with various tones, accents, and dialects, making it suitable for voice assistants, audiobooks, and podcasting applications.\n",
      "7. **Data Augmentation**: Generative AI can generate new, synthetic data to supplement real-world datasets, improving machine learning model performance and reducing the need for expensive data collection efforts.\n",
      "8. **Influencer Identification**: Generative AI can analyze social media platforms to identify potential influencers and content creators based on their engagement patterns, demographics, and interests.\n",
      "9. **Business Process Automation**: Generative AI can automate routine business processes, such as generating and processing invoices, quotes, and contracts, freeing up employees' time for more strategic activities.\n",
      "10. **Design and Prototyping**: Generative AI can create innovative designs, prototypes, and models that would be difficult or impossible to generate by hand. This enables businesses to rapidly test and refine their products and services.\n",
      "\n",
      "Some industries where generative AI has already shown significant applications include:\n",
      "\n",
      "* E-commerce (e.g., personalized product recommendations)\n",
      "* Financial services (e.g., risk assessment and credit scoring)\n",
      "* Healthcare (e.g., medical imaging, patient data analysis)\n",
      "* Manufacturing (e.g., predictive maintenance, quality control)\n",
      "* Media and entertainment (e.g., content creation, personalization)\n",
      "\n",
      "As generative AI technology continues to evolve, we can expect to see even more innovative applications in various industries.\n"
     ]
    }
   ],
   "source": [
    "# There's actually an alternative approach that some people might prefer\n",
    "# You can use the OpenAI client python library to call Ollama:\n",
    "\n",
    "from openai import OpenAI\n",
    "ollama_via_openai = OpenAI(base_url='http://localhost:11434/v1', api_key='ollama')\n",
    "\n",
    "response = ollama_via_openai.chat.completions.create(\n",
    "    model=MODEL,\n",
    "    messages=messages\n",
    ")\n",
    "\n",
    "print(response.choices[0].message.content)"
   ]
  },
  {
   "cell_type": "markdown",
   "id": "1622d9bb-5c68-4d4e-9ca4-b492c751f898",
   "metadata": {},
   "source": [
    "# NOW the exercise for you\n",
    "\n",
    "Take the code from day1 and incorporate it here, to build a website summarizer that uses Llama 3.2 running locally instead of OpenAI; use either of the above approaches."
   ]
  },
  {
   "cell_type": "code",
   "execution_count": 9,
   "id": "402d5686-4e76-4110-b65a-b3906c35c0a4",
   "metadata": {},
   "outputs": [],
   "source": [
    "from selenium import webdriver\n",
    "from selenium.webdriver.common.by import By\n",
    "from selenium.webdriver.chrome.options import Options\n",
    "from selenium.common.exceptions import NoSuchElementException"
   ]
  },
  {
   "cell_type": "code",
   "execution_count": 10,
   "id": "db6ee295-94f0-421c-991b-2d5dbc36c160",
   "metadata": {},
   "outputs": [
    {
     "name": "stdout",
     "output_type": "stream",
     "text": [
      "“The world as we have created it is a process of our thinking. It cannot be changed without changing our thinking.”\n",
      "Albert Einstein\n",
      "“It is our choices, Harry, that show what we truly are, far more than our abilities.”\n",
      "J.K. Rowling\n",
      "“There are only two ways to live your life. One is as though nothing is a miracle. The other is as though everything is a miracle.”\n",
      "Albert Einstein\n",
      "“The person, be it gentleman or lady, who has not pleasure in a good novel, must be intolerably stupid.”\n",
      "Jane Austen\n",
      "“Imperfection is beauty, madness is genius and it's better to be absolutely ridiculous than absolutely boring.”\n",
      "Marilyn Monroe\n",
      "“Try not to become a man of success. Rather become a man of value.”\n",
      "Albert Einstein\n",
      "“It is better to be hated for what you are than to be loved for what you are not.”\n",
      "André Gide\n",
      "“I have not failed. I've just found 10,000 ways that won't work.”\n",
      "Thomas A. Edison\n",
      "“A woman is like a tea bag; you never know how strong it is until it's in hot water.”\n",
      "Eleanor Roosevelt\n",
      "“A day without sunshine is like, you know, night.”\n",
      "Steve Martin\n",
      "“This life is what you make it. No matter what, you're going to mess up sometimes, it's a universal truth. But the good part is you get to decide how you're going to mess it up. Girls will be your friends - they'll act like it anyway. But just remember, some come, some go. The ones that stay with you through everything - they're your true best friends. Don't let go of them. Also remember, sisters make the best friends in the world. As for lovers, well, they'll come and go too. And baby, I hate to say it, most of them - actually pretty much all of them are going to break your heart, but you can't give up because if you give up, you'll never find your soulmate. You'll never find that half who makes you whole and that goes for everything. Just because you fail once, doesn't mean you're gonna fail at everything. Keep trying, hold on, and always, always, always believe in yourself, because if you don't, then who will, sweetie? So keep your head high, keep your chin up, and most importantly, keep smiling, because life's a beautiful thing and there's so much to smile about.”\n",
      "Marilyn Monroe\n",
      "“It takes a great deal of bravery to stand up to our enemies, but just as much to stand up to our friends.”\n",
      "J.K. Rowling\n",
      "“If you can't explain it to a six year old, you don't understand it yourself.”\n",
      "Albert Einstein\n",
      "“You may not be her first, her last, or her only. She loved before she may love again. But if she loves you now, what else matters? She's not perfect—you aren't either, and the two of you may never be perfect together but if she can make you laugh, cause you to think twice, and admit to being human and making mistakes, hold onto her and give her the most you can. She may not be thinking about you every second of the day, but she will give you a part of her that she knows you can break—her heart. So don't hurt her, don't change her, don't analyze and don't expect more than she can give. Smile when she makes you happy, let her know when she makes you mad, and miss her when she's not there.”\n",
      "Bob Marley\n",
      "“I like nonsense, it wakes up the brain cells. Fantasy is a necessary ingredient in living.”\n",
      "Dr. Seuss\n",
      "“I may not have gone where I intended to go, but I think I have ended up where I needed to be.”\n",
      "Douglas Adams\n",
      "“The opposite of love is not hate, it's indifference. The opposite of art is not ugliness, it's indifference. The opposite of faith is not heresy, it's indifference. And the opposite of life is not death, it's indifference.”\n",
      "Elie Wiesel\n",
      "“It is not a lack of love, but a lack of friendship that makes unhappy marriages.”\n",
      "Friedrich Nietzsche\n",
      "“Good friends, good books, and a sleepy conscience: this is the ideal life.”\n",
      "Mark Twain\n",
      "“Life is what happens to us while we are making other plans.”\n",
      "Allen Saunders\n",
      "“I love you without knowing how, or when, or from where. I love you simply, without problems or pride: I love you in this way because I do not know any other way of loving but this, in which there is no I or you, so intimate that your hand upon my chest is my hand, so intimate that when I fall asleep your eyes close.”\n",
      "Pablo Neruda\n",
      "“For every minute you are angry you lose sixty seconds of happiness.”\n",
      "Ralph Waldo Emerson\n",
      "“If you judge people, you have no time to love them.”\n",
      "Mother Teresa\n",
      "“Anyone who thinks sitting in church can make you a Christian must also think that sitting in a garage can make you a car.”\n",
      "Garrison Keillor\n",
      "“Beauty is in the eye of the beholder and it may be necessary from time to time to give a stupid or misinformed beholder a black eye.”\n",
      "Jim Henson\n",
      "“Today you are You, that is truer than true. There is no one alive who is Youer than You.”\n",
      "Dr. Seuss\n",
      "“If you want your children to be intelligent, read them fairy tales. If you want them to be more intelligent, read them more fairy tales.”\n",
      "Albert Einstein\n",
      "“It is impossible to live without failing at something, unless you live so cautiously that you might as well not have lived at all - in which case, you fail by default.”\n",
      "J.K. Rowling\n",
      "“Logic will get you from A to Z; imagination will get you everywhere.”\n",
      "Albert Einstein\n",
      "“One good thing about music, when it hits you, you feel no pain.”\n",
      "Bob Marley\n",
      "“The more that you read, the more things you will know. The more that you learn, the more places you'll go.”\n",
      "Dr. Seuss\n",
      "“Of course it is happening inside your head, Harry, but why on earth should that mean that it is not real?”\n",
      "J.K. Rowling\n",
      "“The truth is, everyone is going to hurt you. You just got to find the ones worth suffering for.”\n",
      "Bob Marley\n",
      "“Not all of us can do great things. But we can do small things with great love.”\n",
      "Mother Teresa\n",
      "“To the well-organized mind, death is but the next great adventure.”\n",
      "J.K. Rowling\n",
      "“All you need is love. But a little chocolate now and then doesn't hurt.”\n",
      "Charles M. Schulz\n",
      "“We read to know we're not alone.”\n",
      "William Nicholson\n",
      "“Any fool can know. The point is to understand.”\n",
      "Albert Einstein\n",
      "“I have always imagined that Paradise will be a kind of library.”\n",
      "Jorge Luis Borges\n",
      "“It is never too late to be what you might have been.”\n",
      "George Eliot\n",
      "“A reader lives a thousand lives before he dies, said Jojen. The man who never reads lives only one.”\n",
      "George R.R. Martin\n",
      "“You can never get a cup of tea large enough or a book long enough to suit me.”\n",
      "C.S. Lewis\n",
      "“You believe lies so you eventually learn to trust no one but yourself.”\n",
      "Marilyn Monroe\n",
      "“If you can make a woman laugh, you can make her do anything.”\n",
      "Marilyn Monroe\n",
      "“Life is like riding a bicycle. To keep your balance, you must keep moving.”\n",
      "Albert Einstein\n",
      "“The real lover is the man who can thrill you by kissing your forehead or smiling into your eyes or just staring into space.”\n",
      "Marilyn Monroe\n",
      "“A wise girl kisses but doesn't love, listens but doesn't believe, and leaves before she is left.”\n",
      "Marilyn Monroe\n",
      "“Only in the darkness can you see the stars.”\n",
      "Martin Luther King Jr.\n",
      "“It matters not what someone is born, but what they grow to be.”\n",
      "J.K. Rowling\n",
      "“Love does not begin and end the way we seem to think it does. Love is a battle, love is a war; love is a growing up.”\n",
      "James Baldwin\n"
     ]
    }
   ],
   "source": [
    "chrome_options = Options()\n",
    "chrome_options.add_argument(\"--headless\")\n",
    "\n",
    "driver = webdriver.Chrome(options=chrome_options)\n",
    "\n",
    "# visit the target website\n",
    "driver.get(\"https://quotes.toscrape.com\")\n",
    "quotes = []\n",
    "\n",
    "def scraper():\n",
    "    # get the product containers\n",
    "    qoute_contrainer = driver.find_elements(By.CLASS_NAME, \"quote\")\n",
    "\n",
    "    # extract the product names and prices\n",
    "    for qoute in qoute_contrainer:\n",
    "        content = qoute.find_element(By.CLASS_NAME, \"text\")\n",
    "        print(content.text)\n",
    "        author = qoute.find_element(By.CLASS_NAME, \"author\")\n",
    "        print(author.text)\n",
    "        quotes.append({\"text\": content.text, \"author\": author.text})\n",
    "        \n",
    "\n",
    "\n",
    "\n",
    "for i in range(0, 10):\n",
    "\n",
    "    # execute the scraper function\n",
    "    scraper()\n",
    "    \n",
    "\n",
    "    try:\n",
    "        # find and click the next page link\n",
    "        next_page_link = driver.find_element(By.CLASS_NAME, \"next\")\n",
    "        a_element = next_page_link.find_element(By.TAG_NAME, \"a\")\n",
    "        if a_element:\n",
    "            a_element.click()\n",
    "    except NoSuchElementException:\n",
    "        print(\"No more pages available\")\n",
    "        break\n",
    "\n",
    "driver.quit()\n"
   ]
  },
  {
   "cell_type": "code",
   "execution_count": 15,
   "id": "56657c2d-5cf0-4cb1-8279-8ea30a9774ec",
   "metadata": {},
   "outputs": [
    {
     "data": {
      "text/markdown": [
       "Here are the top 3 quotes about love from the website in markdown format along with their associated authors:\n",
       "\n",
       "### Top 3 Quotes About Love\n",
       "#### **1. \"Love is a battle, love is a war; love is a growing up.\"**\n",
       "Author: James Baldwin\n",
       "\n",
       "#### **2. \"A reader lives a thousand lives before he dies, said Jojen. The man who never reads lives only one.\"**\n",
       "Author: George R.R. Martin\n",
       "\n",
       "#### **3. \"The real lover is the man who can thrill you by kissing your forehead or smiling into your eyes or just staring into space.\"**\n",
       "Author: Marilyn Monroe"
      ],
      "text/plain": [
       "<IPython.core.display.Markdown object>"
      ]
     },
     "metadata": {},
     "output_type": "display_data"
    }
   ],
   "source": [
    "# Step 1: Create your prompts\n",
    "\n",
    "system_prompt = \"You are an meticulous assistant that analyzes the contents of a website \\\n",
    "and provides a short summary of top quotes found in it given a selected topic. \\\n",
    "Be sure to respond in MARKDOWN.\"\n",
    "\n",
    "topic = \"love\"\n",
    "user_prompt = f\"\"\"\n",
    "    You are looking at a website with the following quotes {quotes} \\n \\\n",
    "    please provide the top 3 quotes about {topic} of this website in markdown with their associated authors. \\\n",
    "\"\"\"\n",
    "\n",
    "# See how this function creates exactly the format above\n",
    "\n",
    "def my_messages_for(system_prompt, website):\n",
    "    return [\n",
    "        {\"role\": \"system\", \"content\": system_prompt},\n",
    "        {\"role\": \"user\", \"content\": user_prompt}\n",
    "    ]\n",
    "\n",
    "# Step 2: Make the messages list\n",
    "\n",
    "messages = my_messages_for(system_prompt, user_prompt)\n",
    "\n",
    "# Step 3: Call model via Ollama's interface\n",
    "response = ollama.chat(model=MODEL, messages=messages)\n",
    "\n",
    "# Step 4: print the result\n",
    "display(Markdown(response['message']['content']))"
   ]
  },
  {
   "cell_type": "code",
   "execution_count": null,
   "id": "f9d875d3-97e0-491f-9232-a5916d6ddeca",
   "metadata": {},
   "outputs": [],
   "source": []
  }
 ],
 "metadata": {
  "kernelspec": {
   "display_name": "Python 3 (ipykernel)",
   "language": "python",
   "name": "python3"
  },
  "language_info": {
   "codemirror_mode": {
    "name": "ipython",
    "version": 3
   },
   "file_extension": ".py",
   "mimetype": "text/x-python",
   "name": "python",
   "nbconvert_exporter": "python",
   "pygments_lexer": "ipython3",
   "version": "3.11.11"
  }
 },
 "nbformat": 4,
 "nbformat_minor": 5
}
